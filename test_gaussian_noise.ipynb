{
 "cells": [
  {
   "cell_type": "code",
   "execution_count": 70,
   "metadata": {},
   "outputs": [],
   "source": [
    "from random_over_sampler import RandomOverSamplerRegression\n",
    "import pandas as pd\n",
    "import numpy as np\n",
    "import matplotlib.pyplot as plt"
   ]
  },
  {
   "cell_type": "code",
   "execution_count": 71,
   "metadata": {},
   "outputs": [
    {
     "data": {
      "text/html": [
       "<div>\n",
       "<style scoped>\n",
       "    .dataframe tbody tr th:only-of-type {\n",
       "        vertical-align: middle;\n",
       "    }\n",
       "\n",
       "    .dataframe tbody tr th {\n",
       "        vertical-align: top;\n",
       "    }\n",
       "\n",
       "    .dataframe thead th {\n",
       "        text-align: right;\n",
       "    }\n",
       "</style>\n",
       "<table border=\"1\" class=\"dataframe\">\n",
       "  <thead>\n",
       "    <tr style=\"text-align: right;\">\n",
       "      <th></th>\n",
       "      <th>X1</th>\n",
       "      <th>X2</th>\n",
       "      <th>Tgt</th>\n",
       "    </tr>\n",
       "  </thead>\n",
       "  <tbody>\n",
       "    <tr>\n",
       "      <th>0</th>\n",
       "      <td>8.598811</td>\n",
       "      <td>9.646846</td>\n",
       "      <td>10.147398</td>\n",
       "    </tr>\n",
       "    <tr>\n",
       "      <th>1</th>\n",
       "      <td>9.424556</td>\n",
       "      <td>7.486556</td>\n",
       "      <td>12.117065</td>\n",
       "    </tr>\n",
       "    <tr>\n",
       "      <th>2</th>\n",
       "      <td>13.896771</td>\n",
       "      <td>10.390389</td>\n",
       "      <td>10.000030</td>\n",
       "    </tr>\n",
       "    <tr>\n",
       "      <th>3</th>\n",
       "      <td>10.176271</td>\n",
       "      <td>10.584084</td>\n",
       "      <td>10.679731</td>\n",
       "    </tr>\n",
       "    <tr>\n",
       "      <th>4</th>\n",
       "      <td>10.323219</td>\n",
       "      <td>10.888969</td>\n",
       "      <td>10.035441</td>\n",
       "    </tr>\n",
       "    <tr>\n",
       "      <th>...</th>\n",
       "      <td>...</td>\n",
       "      <td>...</td>\n",
       "      <td>...</td>\n",
       "    </tr>\n",
       "    <tr>\n",
       "      <th>995</th>\n",
       "      <td>1.099347</td>\n",
       "      <td>7.417908</td>\n",
       "      <td>20.084010</td>\n",
       "    </tr>\n",
       "    <tr>\n",
       "      <th>996</th>\n",
       "      <td>1.700612</td>\n",
       "      <td>13.693203</td>\n",
       "      <td>20.477744</td>\n",
       "    </tr>\n",
       "    <tr>\n",
       "      <th>997</th>\n",
       "      <td>2.528996</td>\n",
       "      <td>14.303922</td>\n",
       "      <td>20.144063</td>\n",
       "    </tr>\n",
       "    <tr>\n",
       "      <th>998</th>\n",
       "      <td>2.616128</td>\n",
       "      <td>5.795239</td>\n",
       "      <td>20.049739</td>\n",
       "    </tr>\n",
       "    <tr>\n",
       "      <th>999</th>\n",
       "      <td>1.332171</td>\n",
       "      <td>15.335230</td>\n",
       "      <td>20.048330</td>\n",
       "    </tr>\n",
       "  </tbody>\n",
       "</table>\n",
       "<p>1000 rows × 3 columns</p>\n",
       "</div>"
      ],
      "text/plain": [
       "            X1         X2        Tgt\n",
       "0     8.598811   9.646846  10.147398\n",
       "1     9.424556   7.486556  12.117065\n",
       "2    13.896771  10.390389  10.000030\n",
       "3    10.176271  10.584084  10.679731\n",
       "4    10.323219  10.888969  10.035441\n",
       "..         ...        ...        ...\n",
       "995   1.099347   7.417908  20.084010\n",
       "996   1.700612  13.693203  20.477744\n",
       "997   2.528996  14.303922  20.144063\n",
       "998   2.616128   5.795239  20.049739\n",
       "999   1.332171  15.335230  20.048330\n",
       "\n",
       "[1000 rows x 3 columns]"
      ]
     },
     "execution_count": 71,
     "metadata": {},
     "output_type": "execute_result"
    }
   ],
   "source": [
    "pd.set_option('display.max_rows',100)\n",
    "data = pd.read_csv('test/ImbR.csv', index_col=0)\n",
    "data"
   ]
  },
  {
   "cell_type": "code",
   "execution_count": 72,
   "metadata": {},
   "outputs": [
    {
     "data": {
      "text/plain": [
       "[2.8637381238964736, 2.779218640675736, 2.345066664214325]"
      ]
     },
     "execution_count": 72,
     "metadata": {},
     "output_type": "execute_result"
    }
   ],
   "source": [
    "data.std().tolist()"
   ]
  },
  {
   "cell_type": "code",
   "execution_count": 73,
   "metadata": {},
   "outputs": [],
   "source": [
    "data1 = data.sample(n=5)"
   ]
  },
  {
   "cell_type": "code",
   "execution_count": 74,
   "metadata": {},
   "outputs": [
    {
     "data": {
      "text/html": [
       "<div>\n",
       "<style scoped>\n",
       "    .dataframe tbody tr th:only-of-type {\n",
       "        vertical-align: middle;\n",
       "    }\n",
       "\n",
       "    .dataframe tbody tr th {\n",
       "        vertical-align: top;\n",
       "    }\n",
       "\n",
       "    .dataframe thead th {\n",
       "        text-align: right;\n",
       "    }\n",
       "</style>\n",
       "<table border=\"1\" class=\"dataframe\">\n",
       "  <thead>\n",
       "    <tr style=\"text-align: right;\">\n",
       "      <th></th>\n",
       "      <th>X1</th>\n",
       "      <th>X2</th>\n",
       "      <th>Tgt</th>\n",
       "    </tr>\n",
       "  </thead>\n",
       "  <tbody>\n",
       "    <tr>\n",
       "      <th>713</th>\n",
       "      <td>9.783215</td>\n",
       "      <td>5.866861</td>\n",
       "      <td>10.790227</td>\n",
       "    </tr>\n",
       "    <tr>\n",
       "      <th>252</th>\n",
       "      <td>9.140207</td>\n",
       "      <td>12.128812</td>\n",
       "      <td>11.279797</td>\n",
       "    </tr>\n",
       "    <tr>\n",
       "      <th>693</th>\n",
       "      <td>8.027592</td>\n",
       "      <td>13.625320</td>\n",
       "      <td>10.047773</td>\n",
       "    </tr>\n",
       "    <tr>\n",
       "      <th>662</th>\n",
       "      <td>14.915620</td>\n",
       "      <td>11.188481</td>\n",
       "      <td>10.415133</td>\n",
       "    </tr>\n",
       "    <tr>\n",
       "      <th>588</th>\n",
       "      <td>11.457479</td>\n",
       "      <td>10.542341</td>\n",
       "      <td>10.156272</td>\n",
       "    </tr>\n",
       "  </tbody>\n",
       "</table>\n",
       "</div>"
      ],
      "text/plain": [
       "            X1         X2        Tgt\n",
       "713   9.783215   5.866861  10.790227\n",
       "252   9.140207  12.128812  11.279797\n",
       "693   8.027592  13.625320  10.047773\n",
       "662  14.915620  11.188481  10.415133\n",
       "588  11.457479  10.542341  10.156272"
      ]
     },
     "execution_count": 74,
     "metadata": {},
     "output_type": "execute_result"
    }
   ],
   "source": [
    "data1"
   ]
  },
  {
   "cell_type": "code",
   "execution_count": 75,
   "metadata": {},
   "outputs": [
    {
     "data": {
      "text/html": [
       "<div>\n",
       "<style scoped>\n",
       "    .dataframe tbody tr th:only-of-type {\n",
       "        vertical-align: middle;\n",
       "    }\n",
       "\n",
       "    .dataframe tbody tr th {\n",
       "        vertical-align: top;\n",
       "    }\n",
       "\n",
       "    .dataframe thead th {\n",
       "        text-align: right;\n",
       "    }\n",
       "</style>\n",
       "<table border=\"1\" class=\"dataframe\">\n",
       "  <thead>\n",
       "    <tr style=\"text-align: right;\">\n",
       "      <th></th>\n",
       "      <th>X1</th>\n",
       "      <th>X2</th>\n",
       "      <th>Tgt</th>\n",
       "    </tr>\n",
       "  </thead>\n",
       "  <tbody>\n",
       "    <tr>\n",
       "      <th>713</th>\n",
       "      <td>9.783215</td>\n",
       "      <td>5.866861</td>\n",
       "      <td>10.790227</td>\n",
       "    </tr>\n",
       "    <tr>\n",
       "      <th>713</th>\n",
       "      <td>9.783215</td>\n",
       "      <td>5.866861</td>\n",
       "      <td>10.790227</td>\n",
       "    </tr>\n",
       "    <tr>\n",
       "      <th>252</th>\n",
       "      <td>9.140207</td>\n",
       "      <td>12.128812</td>\n",
       "      <td>11.279797</td>\n",
       "    </tr>\n",
       "    <tr>\n",
       "      <th>252</th>\n",
       "      <td>9.140207</td>\n",
       "      <td>12.128812</td>\n",
       "      <td>11.279797</td>\n",
       "    </tr>\n",
       "    <tr>\n",
       "      <th>693</th>\n",
       "      <td>8.027592</td>\n",
       "      <td>13.625320</td>\n",
       "      <td>10.047773</td>\n",
       "    </tr>\n",
       "    <tr>\n",
       "      <th>693</th>\n",
       "      <td>8.027592</td>\n",
       "      <td>13.625320</td>\n",
       "      <td>10.047773</td>\n",
       "    </tr>\n",
       "    <tr>\n",
       "      <th>662</th>\n",
       "      <td>14.915620</td>\n",
       "      <td>11.188481</td>\n",
       "      <td>10.415133</td>\n",
       "    </tr>\n",
       "    <tr>\n",
       "      <th>662</th>\n",
       "      <td>14.915620</td>\n",
       "      <td>11.188481</td>\n",
       "      <td>10.415133</td>\n",
       "    </tr>\n",
       "    <tr>\n",
       "      <th>588</th>\n",
       "      <td>11.457479</td>\n",
       "      <td>10.542341</td>\n",
       "      <td>10.156272</td>\n",
       "    </tr>\n",
       "    <tr>\n",
       "      <th>588</th>\n",
       "      <td>11.457479</td>\n",
       "      <td>10.542341</td>\n",
       "      <td>10.156272</td>\n",
       "    </tr>\n",
       "  </tbody>\n",
       "</table>\n",
       "</div>"
      ],
      "text/plain": [
       "            X1         X2        Tgt\n",
       "713   9.783215   5.866861  10.790227\n",
       "713   9.783215   5.866861  10.790227\n",
       "252   9.140207  12.128812  11.279797\n",
       "252   9.140207  12.128812  11.279797\n",
       "693   8.027592  13.625320  10.047773\n",
       "693   8.027592  13.625320  10.047773\n",
       "662  14.915620  11.188481  10.415133\n",
       "662  14.915620  11.188481  10.415133\n",
       "588  11.457479  10.542341  10.156272\n",
       "588  11.457479  10.542341  10.156272"
      ]
     },
     "execution_count": 75,
     "metadata": {},
     "output_type": "execute_result"
    }
   ],
   "source": [
    "data2 = data1.loc[data1.index.repeat(2)]\n",
    "data2"
   ]
  },
  {
   "cell_type": "code",
   "execution_count": 76,
   "metadata": {},
   "outputs": [
    {
     "data": {
      "text/plain": [
       "[2.527812109858438, 2.7575073030116295, 0.4749305419698598]"
      ]
     },
     "execution_count": 76,
     "metadata": {},
     "output_type": "execute_result"
    }
   ],
   "source": [
    "feature_stds = data2.std().to_list()\n",
    "feature_stds"
   ]
  },
  {
   "cell_type": "code",
   "execution_count": 77,
   "metadata": {},
   "outputs": [
    {
     "data": {
      "text/plain": [
       "-0.48790414504893614"
      ]
     },
     "execution_count": 77,
     "metadata": {},
     "output_type": "execute_result"
    }
   ],
   "source": [
    "np.random.normal(0,feature_stds[0]*0.3,1)[0]"
   ]
  },
  {
   "cell_type": "code",
   "execution_count": 78,
   "metadata": {},
   "outputs": [
    {
     "data": {
      "text/plain": [
       "-0.13081381052277521"
      ]
     },
     "execution_count": 78,
     "metadata": {},
     "output_type": "execute_result"
    }
   ],
   "source": [
    "np.random.normal(0,feature_stds[1]*0.3,1)[0]"
   ]
  },
  {
   "cell_type": "code",
   "execution_count": 79,
   "metadata": {},
   "outputs": [
    {
     "data": {
      "text/plain": [
       "-0.2092416623918443"
      ]
     },
     "execution_count": 79,
     "metadata": {},
     "output_type": "execute_result"
    }
   ],
   "source": [
    "np.random.normal(0,feature_stds[2]*0.3,1)[0]"
   ]
  },
  {
   "cell_type": "code",
   "execution_count": 84,
   "metadata": {},
   "outputs": [
    {
     "data": {
      "text/plain": [
       "(10, 3)"
      ]
     },
     "execution_count": 84,
     "metadata": {},
     "output_type": "execute_result"
    }
   ],
   "source": [
    "data2.shape"
   ]
  },
  {
   "cell_type": "code",
   "execution_count": 83,
   "metadata": {},
   "outputs": [
    {
     "data": {
      "text/html": [
       "<div>\n",
       "<style scoped>\n",
       "    .dataframe tbody tr th:only-of-type {\n",
       "        vertical-align: middle;\n",
       "    }\n",
       "\n",
       "    .dataframe tbody tr th {\n",
       "        vertical-align: top;\n",
       "    }\n",
       "\n",
       "    .dataframe thead th {\n",
       "        text-align: right;\n",
       "    }\n",
       "</style>\n",
       "<table border=\"1\" class=\"dataframe\">\n",
       "  <thead>\n",
       "    <tr style=\"text-align: right;\">\n",
       "      <th></th>\n",
       "      <th>X1</th>\n",
       "      <th>X2</th>\n",
       "      <th>Tgt</th>\n",
       "    </tr>\n",
       "  </thead>\n",
       "  <tbody>\n",
       "    <tr>\n",
       "      <th>713</th>\n",
       "      <td>9.592867</td>\n",
       "      <td>5.545299</td>\n",
       "      <td>10.730444</td>\n",
       "    </tr>\n",
       "    <tr>\n",
       "      <th>713</th>\n",
       "      <td>9.022935</td>\n",
       "      <td>6.776101</td>\n",
       "      <td>10.585230</td>\n",
       "    </tr>\n",
       "    <tr>\n",
       "      <th>252</th>\n",
       "      <td>8.237061</td>\n",
       "      <td>12.214712</td>\n",
       "      <td>11.123309</td>\n",
       "    </tr>\n",
       "    <tr>\n",
       "      <th>252</th>\n",
       "      <td>9.296802</td>\n",
       "      <td>13.160682</td>\n",
       "      <td>11.320924</td>\n",
       "    </tr>\n",
       "    <tr>\n",
       "      <th>693</th>\n",
       "      <td>9.137811</td>\n",
       "      <td>14.187439</td>\n",
       "      <td>10.077945</td>\n",
       "    </tr>\n",
       "    <tr>\n",
       "      <th>693</th>\n",
       "      <td>7.795726</td>\n",
       "      <td>13.797187</td>\n",
       "      <td>9.999056</td>\n",
       "    </tr>\n",
       "    <tr>\n",
       "      <th>662</th>\n",
       "      <td>14.603444</td>\n",
       "      <td>11.004549</td>\n",
       "      <td>10.284119</td>\n",
       "    </tr>\n",
       "    <tr>\n",
       "      <th>662</th>\n",
       "      <td>13.571624</td>\n",
       "      <td>11.655553</td>\n",
       "      <td>10.142627</td>\n",
       "    </tr>\n",
       "    <tr>\n",
       "      <th>588</th>\n",
       "      <td>11.267204</td>\n",
       "      <td>11.808769</td>\n",
       "      <td>9.944964</td>\n",
       "    </tr>\n",
       "    <tr>\n",
       "      <th>588</th>\n",
       "      <td>11.460543</td>\n",
       "      <td>11.274754</td>\n",
       "      <td>10.019766</td>\n",
       "    </tr>\n",
       "  </tbody>\n",
       "</table>\n",
       "</div>"
      ],
      "text/plain": [
       "            X1         X2        Tgt\n",
       "713   9.592867   5.545299  10.730444\n",
       "713   9.022935   6.776101  10.585230\n",
       "252   8.237061  12.214712  11.123309\n",
       "252   9.296802  13.160682  11.320924\n",
       "693   9.137811  14.187439  10.077945\n",
       "693   7.795726  13.797187   9.999056\n",
       "662  14.603444  11.004549  10.284119\n",
       "662  13.571624  11.655553  10.142627\n",
       "588  11.267204  11.808769   9.944964\n",
       "588  11.460543  11.274754  10.019766"
      ]
     },
     "execution_count": 83,
     "metadata": {},
     "output_type": "execute_result"
    }
   ],
   "source": [
    "for index in range(data2.shape[1]):\n",
    "    data2.iloc[:,index] = data2.iloc[:,index].apply(lambda x: x+np.random.normal(0,feature_stds[index]*0.3,1)[0])\n",
    "data2"
   ]
  },
  {
   "cell_type": "code",
   "execution_count": null,
   "metadata": {},
   "outputs": [],
   "source": []
  }
 ],
 "metadata": {
  "kernelspec": {
   "display_name": "Python 3.8.5 64-bit ('base': conda)",
   "language": "python",
   "name": "python38564bitbasecondad1742f2c15834eb4a25ed5f906de87ff"
  },
  "language_info": {
   "codemirror_mode": {
    "name": "ipython",
    "version": 3
   },
   "file_extension": ".py",
   "mimetype": "text/x-python",
   "name": "python",
   "nbconvert_exporter": "python",
   "pygments_lexer": "ipython3",
   "version": "3.8.5"
  }
 },
 "nbformat": 4,
 "nbformat_minor": 4
}
