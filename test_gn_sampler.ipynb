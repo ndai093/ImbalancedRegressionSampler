{
 "cells": [
  {
   "cell_type": "code",
   "execution_count": 1,
   "metadata": {},
   "outputs": [],
   "source": [
    "from utility_based_gaussian_noise_sampler import UtilityBasedGaussianNoiseSampler\n",
    "import pandas as pd\n",
    "import numpy as np\n",
    "import matplotlib.pyplot as plt"
   ]
  },
  {
   "cell_type": "code",
   "execution_count": 2,
   "metadata": {},
   "outputs": [
    {
     "data": {
      "text/html": [
       "<div>\n",
       "<style scoped>\n",
       "    .dataframe tbody tr th:only-of-type {\n",
       "        vertical-align: middle;\n",
       "    }\n",
       "\n",
       "    .dataframe tbody tr th {\n",
       "        vertical-align: top;\n",
       "    }\n",
       "\n",
       "    .dataframe thead th {\n",
       "        text-align: right;\n",
       "    }\n",
       "</style>\n",
       "<table border=\"1\" class=\"dataframe\">\n",
       "  <thead>\n",
       "    <tr style=\"text-align: right;\">\n",
       "      <th></th>\n",
       "      <th>X1</th>\n",
       "      <th>X2</th>\n",
       "      <th>Tgt</th>\n",
       "    </tr>\n",
       "  </thead>\n",
       "  <tbody>\n",
       "    <tr>\n",
       "      <th>0</th>\n",
       "      <td>8.598811</td>\n",
       "      <td>9.646846</td>\n",
       "      <td>10.147398</td>\n",
       "    </tr>\n",
       "    <tr>\n",
       "      <th>1</th>\n",
       "      <td>9.424556</td>\n",
       "      <td>7.486556</td>\n",
       "      <td>12.117065</td>\n",
       "    </tr>\n",
       "    <tr>\n",
       "      <th>2</th>\n",
       "      <td>13.896771</td>\n",
       "      <td>10.390389</td>\n",
       "      <td>10.000030</td>\n",
       "    </tr>\n",
       "    <tr>\n",
       "      <th>3</th>\n",
       "      <td>10.176271</td>\n",
       "      <td>10.584084</td>\n",
       "      <td>10.679731</td>\n",
       "    </tr>\n",
       "    <tr>\n",
       "      <th>4</th>\n",
       "      <td>10.323219</td>\n",
       "      <td>10.888969</td>\n",
       "      <td>10.035441</td>\n",
       "    </tr>\n",
       "    <tr>\n",
       "      <th>...</th>\n",
       "      <td>...</td>\n",
       "      <td>...</td>\n",
       "      <td>...</td>\n",
       "    </tr>\n",
       "    <tr>\n",
       "      <th>995</th>\n",
       "      <td>1.099347</td>\n",
       "      <td>7.417908</td>\n",
       "      <td>20.084010</td>\n",
       "    </tr>\n",
       "    <tr>\n",
       "      <th>996</th>\n",
       "      <td>1.700612</td>\n",
       "      <td>13.693203</td>\n",
       "      <td>20.477744</td>\n",
       "    </tr>\n",
       "    <tr>\n",
       "      <th>997</th>\n",
       "      <td>2.528996</td>\n",
       "      <td>14.303922</td>\n",
       "      <td>20.144063</td>\n",
       "    </tr>\n",
       "    <tr>\n",
       "      <th>998</th>\n",
       "      <td>2.616128</td>\n",
       "      <td>5.795239</td>\n",
       "      <td>20.049739</td>\n",
       "    </tr>\n",
       "    <tr>\n",
       "      <th>999</th>\n",
       "      <td>1.332171</td>\n",
       "      <td>15.335230</td>\n",
       "      <td>20.048330</td>\n",
       "    </tr>\n",
       "  </tbody>\n",
       "</table>\n",
       "<p>1000 rows × 3 columns</p>\n",
       "</div>"
      ],
      "text/plain": [
       "            X1         X2        Tgt\n",
       "0     8.598811   9.646846  10.147398\n",
       "1     9.424556   7.486556  12.117065\n",
       "2    13.896771  10.390389  10.000030\n",
       "3    10.176271  10.584084  10.679731\n",
       "4    10.323219  10.888969  10.035441\n",
       "..         ...        ...        ...\n",
       "995   1.099347   7.417908  20.084010\n",
       "996   1.700612  13.693203  20.477744\n",
       "997   2.528996  14.303922  20.144063\n",
       "998   2.616128   5.795239  20.049739\n",
       "999   1.332171  15.335230  20.048330\n",
       "\n",
       "[1000 rows x 3 columns]"
      ]
     },
     "execution_count": 2,
     "metadata": {},
     "output_type": "execute_result"
    }
   ],
   "source": [
    "pd.set_option('display.max_rows',100)\n",
    "data = pd.read_csv('test/ImbR.csv', index_col=0)\n",
    "data"
   ]
  },
  {
   "cell_type": "markdown",
   "metadata": {},
   "source": [
    "# Test c_perc= list of percentage"
   ]
  },
  {
   "cell_type": "code",
   "execution_count": 3,
   "metadata": {},
   "outputs": [
    {
     "data": {
      "text/plain": [
       "('extremes', 'both', 0.8, [], [0.5], [3.0], 0.1)"
      ]
     },
     "execution_count": 3,
     "metadata": {},
     "output_type": "execute_result"
    }
   ],
   "source": [
    "gn_perc = UtilityBasedGaussianNoiseSampler(data, thr_rel=0.8, c_perc=[0.5,3])\n",
    "method = gn_perc.getMethod()\n",
    "extrType = gn_perc.getExtrType()\n",
    "thr_rel = gn_perc.getThrRel()\n",
    "controlPtr = gn_perc.getControlPtr()\n",
    "c_perc_undersampling, c_perc_oversampling = gn_perc.getCPerc()\n",
    "pert = gn_perc.getPert()\n",
    "method, extrType, thr_rel, controlPtr, c_perc_undersampling, c_perc_oversampling, pert"
   ]
  },
  {
   "cell_type": "code",
   "execution_count": 4,
   "metadata": {},
   "outputs": [
    {
     "data": {
      "text/plain": [
       "(877,\n",
       "             X1         X2        Tgt\n",
       " 0     8.598811   9.646846  10.147398\n",
       " 1     9.424556   7.486556  12.117065\n",
       " 1     9.319825   8.007417  12.329754\n",
       " 1     9.316971   7.540533  11.933071\n",
       " 2    13.896771  10.390389  10.000030\n",
       " ..         ...        ...        ...\n",
       " 998   2.235070   5.947705  19.995935\n",
       " 998   2.616128   5.795239  20.049739\n",
       " 999   1.078944  15.253544  20.457436\n",
       " 999   1.612397  15.196199  20.268815\n",
       " 999   1.332171  15.335230  20.048330\n",
       " \n",
       " [877 rows x 3 columns])"
      ]
     },
     "execution_count": 4,
     "metadata": {},
     "output_type": "execute_result"
    }
   ],
   "source": [
    "resampled = gn_perc.resample()\n",
    "len(resampled), resampled"
   ]
  },
  {
   "cell_type": "markdown",
   "metadata": {},
   "source": [
    "# Test c_perc= 'balance'"
   ]
  },
  {
   "cell_type": "code",
   "execution_count": 5,
   "metadata": {},
   "outputs": [
    {
     "data": {
      "text/plain": [
       "('extremes', 'both', 0.8, [], 'balance', 0.1)"
      ]
     },
     "execution_count": 5,
     "metadata": {},
     "output_type": "execute_result"
    }
   ],
   "source": [
    "data = pd.read_csv('test/ImbR.csv', index_col=0)\n",
    "gn_balance = UtilityBasedGaussianNoiseSampler(data, thr_rel=0.8, c_perc='balance')\n",
    "method = gn_balance.getMethod()\n",
    "extrType = gn_balance.getExtrType()\n",
    "thr_rel = gn_balance.getThrRel()\n",
    "controlPtr = gn_balance.getControlPtr()\n",
    "c_perc = gn_balance.getCPerc()\n",
    "pert = gn_balance.getPert()\n",
    "method, extrType, thr_rel, controlPtr, c_perc, pert"
   ]
  },
  {
   "cell_type": "code",
   "execution_count": 6,
   "metadata": {},
   "outputs": [
    {
     "data": {
      "text/plain": [
       "(1698,\n",
       "            X1         X2        Tgt\n",
       " 0    8.598811   9.646846  10.147398\n",
       " 1    9.686486   7.710676  12.108559\n",
       " 1    9.730307   7.655741  12.313270\n",
       " 1    9.424556   7.486556  12.117065\n",
       " 1    8.688093   7.518979  12.251244\n",
       " ..        ...        ...        ...\n",
       " 999  1.043048  15.227978  19.704817\n",
       " 999  1.150679  15.340856  20.350874\n",
       " 999  1.332171  15.335230  20.048330\n",
       " 999  1.443521  15.504069  19.779957\n",
       " 999  1.402488  14.991774  20.196245\n",
       " \n",
       " [1698 rows x 3 columns])"
      ]
     },
     "execution_count": 6,
     "metadata": {},
     "output_type": "execute_result"
    }
   ],
   "source": [
    "resampled = gn_balance.resample()\n",
    "len(resampled), resampled"
   ]
  },
  {
   "cell_type": "markdown",
   "metadata": {},
   "source": [
    "# Test c_perc= 'extreme'"
   ]
  },
  {
   "cell_type": "code",
   "execution_count": 10,
   "metadata": {},
   "outputs": [
    {
     "data": {
      "text/plain": [
       "('extremes', 'both', 0.8, [], 'extreme', 0.1)"
      ]
     },
     "execution_count": 10,
     "metadata": {},
     "output_type": "execute_result"
    }
   ],
   "source": [
    "data = pd.read_csv('test/ImbR.csv', index_col=0)\n",
    "gn_extreme = UtilityBasedGaussianNoiseSampler(data, thr_rel=0.8, c_perc='extreme')\n",
    "method = gn_extreme.getMethod()\n",
    "extrType = gn_extreme.getExtrType()\n",
    "thr_rel = gn_extreme.getThrRel()\n",
    "controlPtr = gn_extreme.getControlPtr()\n",
    "c_perc = gn_extreme.getCPerc()\n",
    "pert = gn_extreme.getPert()\n",
    "method, extrType, thr_rel, controlPtr, c_perc, pert"
   ]
  },
  {
   "cell_type": "code",
   "execution_count": 11,
   "metadata": {},
   "outputs": [
    {
     "data": {
      "text/plain": [
       "(5623,\n",
       "            X1         X2        Tgt\n",
       " 0    8.598811   9.646846  10.147398\n",
       " 1    9.237311   7.215270  12.127654\n",
       " 1    9.642659   7.421251  12.082274\n",
       " 1    9.673317   7.667252  12.143553\n",
       " 1    9.638074   6.990132  12.508465\n",
       " ..        ...        ...        ...\n",
       " 999  0.954022  15.264002  19.721740\n",
       " 999  1.332171  15.335230  20.048330\n",
       " 999  1.442991  15.570032  20.156958\n",
       " 999  0.878095  15.769631  20.109255\n",
       " 999  1.418139  15.541546  20.430865\n",
       " \n",
       " [5623 rows x 3 columns])"
      ]
     },
     "execution_count": 11,
     "metadata": {},
     "output_type": "execute_result"
    }
   ],
   "source": [
    "resampled = gn_extreme.resample()\n",
    "len(resampled), resampled"
   ]
  },
  {
   "cell_type": "code",
   "execution_count": null,
   "metadata": {},
   "outputs": [],
   "source": []
  }
 ],
 "metadata": {
  "kernelspec": {
   "display_name": "Python 3",
   "language": "python",
   "name": "python3"
  },
  "language_info": {
   "codemirror_mode": {
    "name": "ipython",
    "version": 3
   },
   "file_extension": ".py",
   "mimetype": "text/x-python",
   "name": "python",
   "nbconvert_exporter": "python",
   "pygments_lexer": "ipython3",
   "version": "3.8.5"
  }
 },
 "nbformat": 4,
 "nbformat_minor": 4
}
