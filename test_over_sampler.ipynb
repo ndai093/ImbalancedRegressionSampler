{
 "cells": [
  {
   "cell_type": "code",
   "execution_count": 1,
   "metadata": {},
   "outputs": [],
   "source": [
    "from utility_based_random_over_sampler import UtilityBasedRandomOverSampler\n",
    "import pandas as pd\n",
    "import numpy as np\n",
    "import matplotlib.pyplot as plt"
   ]
  },
  {
   "cell_type": "code",
   "execution_count": 2,
   "metadata": {},
   "outputs": [
    {
     "data": {
      "text/html": [
       "<div>\n",
       "<style scoped>\n",
       "    .dataframe tbody tr th:only-of-type {\n",
       "        vertical-align: middle;\n",
       "    }\n",
       "\n",
       "    .dataframe tbody tr th {\n",
       "        vertical-align: top;\n",
       "    }\n",
       "\n",
       "    .dataframe thead th {\n",
       "        text-align: right;\n",
       "    }\n",
       "</style>\n",
       "<table border=\"1\" class=\"dataframe\">\n",
       "  <thead>\n",
       "    <tr style=\"text-align: right;\">\n",
       "      <th></th>\n",
       "      <th>X1</th>\n",
       "      <th>X2</th>\n",
       "      <th>Tgt</th>\n",
       "    </tr>\n",
       "  </thead>\n",
       "  <tbody>\n",
       "    <tr>\n",
       "      <th>0</th>\n",
       "      <td>8.598811</td>\n",
       "      <td>9.646846</td>\n",
       "      <td>10.147398</td>\n",
       "    </tr>\n",
       "    <tr>\n",
       "      <th>1</th>\n",
       "      <td>9.424556</td>\n",
       "      <td>7.486556</td>\n",
       "      <td>12.117065</td>\n",
       "    </tr>\n",
       "    <tr>\n",
       "      <th>2</th>\n",
       "      <td>13.896771</td>\n",
       "      <td>10.390389</td>\n",
       "      <td>10.000030</td>\n",
       "    </tr>\n",
       "    <tr>\n",
       "      <th>3</th>\n",
       "      <td>10.176271</td>\n",
       "      <td>10.584084</td>\n",
       "      <td>10.679731</td>\n",
       "    </tr>\n",
       "    <tr>\n",
       "      <th>4</th>\n",
       "      <td>10.323219</td>\n",
       "      <td>10.888969</td>\n",
       "      <td>10.035441</td>\n",
       "    </tr>\n",
       "    <tr>\n",
       "      <th>...</th>\n",
       "      <td>...</td>\n",
       "      <td>...</td>\n",
       "      <td>...</td>\n",
       "    </tr>\n",
       "    <tr>\n",
       "      <th>995</th>\n",
       "      <td>1.099347</td>\n",
       "      <td>7.417908</td>\n",
       "      <td>20.084010</td>\n",
       "    </tr>\n",
       "    <tr>\n",
       "      <th>996</th>\n",
       "      <td>1.700612</td>\n",
       "      <td>13.693203</td>\n",
       "      <td>20.477744</td>\n",
       "    </tr>\n",
       "    <tr>\n",
       "      <th>997</th>\n",
       "      <td>2.528996</td>\n",
       "      <td>14.303922</td>\n",
       "      <td>20.144063</td>\n",
       "    </tr>\n",
       "    <tr>\n",
       "      <th>998</th>\n",
       "      <td>2.616128</td>\n",
       "      <td>5.795239</td>\n",
       "      <td>20.049739</td>\n",
       "    </tr>\n",
       "    <tr>\n",
       "      <th>999</th>\n",
       "      <td>1.332171</td>\n",
       "      <td>15.335230</td>\n",
       "      <td>20.048330</td>\n",
       "    </tr>\n",
       "  </tbody>\n",
       "</table>\n",
       "<p>1000 rows × 3 columns</p>\n",
       "</div>"
      ],
      "text/plain": [
       "            X1         X2        Tgt\n",
       "0     8.598811   9.646846  10.147398\n",
       "1     9.424556   7.486556  12.117065\n",
       "2    13.896771  10.390389  10.000030\n",
       "3    10.176271  10.584084  10.679731\n",
       "4    10.323219  10.888969  10.035441\n",
       "..         ...        ...        ...\n",
       "995   1.099347   7.417908  20.084010\n",
       "996   1.700612  13.693203  20.477744\n",
       "997   2.528996  14.303922  20.144063\n",
       "998   2.616128   5.795239  20.049739\n",
       "999   1.332171  15.335230  20.048330\n",
       "\n",
       "[1000 rows x 3 columns]"
      ]
     },
     "execution_count": 2,
     "metadata": {},
     "output_type": "execute_result"
    }
   ],
   "source": [
    "pd.set_option('display.max_rows',100)\n",
    "data = pd.read_csv('test/ImbR.csv', index_col=0)\n",
    "data"
   ]
  },
  {
   "cell_type": "markdown",
   "metadata": {},
   "source": [
    "# Test IRO 'extremes'; thr_rel = 0.5; c_perc = [2.5]"
   ]
  },
  {
   "cell_type": "code",
   "execution_count": 3,
   "metadata": {},
   "outputs": [
    {
     "data": {
      "text/plain": [
       "('extremes', 'both', 0.5, [], [2.5])"
      ]
     },
     "execution_count": 3,
     "metadata": {},
     "output_type": "execute_result"
    }
   ],
   "source": [
    "over_perc = UtilityBasedRandomOverSampler(data, thr_rel=0.5, c_perc=[2.5])\n",
    "method = over_perc.getMethod()\n",
    "extrType = over_perc.getExtrType()\n",
    "thr_rel = over_perc.getThrRel()\n",
    "controlPtr = over_perc.getControlPtr()\n",
    "c_perc = over_perc.getCPerc()\n",
    "method, extrType, thr_rel, controlPtr, c_perc"
   ]
  },
  {
   "cell_type": "code",
   "execution_count": 4,
   "metadata": {},
   "outputs": [
    {
     "data": {
      "text/plain": [
       "(1293,\n",
       "             X1         X2        Tgt\n",
       " 0     8.598811   9.646846  10.147398\n",
       " 1     9.424556   7.486556  12.117065\n",
       " 2    13.896771  10.390389  10.000030\n",
       " 3    10.176271  10.584084  10.679731\n",
       " 4    10.323219  10.888969  10.035441\n",
       " ..         ...        ...        ...\n",
       " 997   2.528996  14.303922  20.144063\n",
       " 998   2.616128   5.795239  20.049739\n",
       " 998   2.616128   5.795239  20.049739\n",
       " 998   2.616128   5.795239  20.049739\n",
       " 998   2.616128   5.795239  20.049739\n",
       " \n",
       " [1293 rows x 3 columns])"
      ]
     },
     "execution_count": 4,
     "metadata": {},
     "output_type": "execute_result"
    }
   ],
   "source": [
    "resampled = over_perc.resample()\n",
    "len(resampled), resampled"
   ]
  },
  {
   "cell_type": "markdown",
   "metadata": {},
   "source": [
    "# Test IROBal 'extremes'; thr_rel = 0.5; c_perc = 'balance'"
   ]
  },
  {
   "cell_type": "code",
   "execution_count": 5,
   "metadata": {},
   "outputs": [
    {
     "data": {
      "text/plain": [
       "('extremes', 'both', 0.5, [], 'balance')"
      ]
     },
     "execution_count": 5,
     "metadata": {},
     "output_type": "execute_result"
    }
   ],
   "source": [
    "data = pd.read_csv('test/ImbR.csv', index_col=0)\n",
    "over_balance = UtilityBasedRandomOverSampler(data, thr_rel=0.5, c_perc='balance')\n",
    "method = over_balance.getMethod()\n",
    "extrType = over_balance.getExtrType()\n",
    "thr_rel = over_balance.getThrRel()\n",
    "controlPtr = over_balance.getControlPtr()\n",
    "c_perc = over_balance.getCPerc()\n",
    "method, extrType, thr_rel, controlPtr, c_perc"
   ]
  },
  {
   "cell_type": "code",
   "execution_count": 6,
   "metadata": {},
   "outputs": [
    {
     "data": {
      "text/plain": [
       "(1610,\n",
       "             X1         X2        Tgt\n",
       " 0     8.598811   9.646846  10.147398\n",
       " 1     9.424556   7.486556  12.117065\n",
       " 1     9.424556   7.486556  12.117065\n",
       " 2    13.896771  10.390389  10.000030\n",
       " 3    10.176271  10.584084  10.679731\n",
       " ..         ...        ...        ...\n",
       " 998   2.616128   5.795239  20.049739\n",
       " 998   2.616128   5.795239  20.049739\n",
       " 999   1.332171  15.335230  20.048330\n",
       " 999   1.332171  15.335230  20.048330\n",
       " 999   1.332171  15.335230  20.048330\n",
       " \n",
       " [1610 rows x 3 columns])"
      ]
     },
     "execution_count": 6,
     "metadata": {},
     "output_type": "execute_result"
    }
   ],
   "source": [
    "resampled = over_balance.resample()\n",
    "len(resampled), resampled"
   ]
  },
  {
   "cell_type": "markdown",
   "metadata": {},
   "source": [
    "# Test IROExt 'extremes'; thr_rel = 0.5; c_perc = 'extreme'"
   ]
  },
  {
   "cell_type": "code",
   "execution_count": 7,
   "metadata": {},
   "outputs": [
    {
     "data": {
      "text/plain": [
       "('extremes', 'both', 0.5, [], 'extreme')"
      ]
     },
     "execution_count": 7,
     "metadata": {},
     "output_type": "execute_result"
    }
   ],
   "source": [
    "data = pd.read_csv('test/ImbR.csv', index_col=0)\n",
    "over_extreme = UtilityBasedRandomOverSampler(data, thr_rel=0.5, c_perc='extreme')\n",
    "method = over_extreme.getMethod()\n",
    "extrType = over_extreme.getExtrType()\n",
    "thr_rel = over_extreme.getThrRel()\n",
    "controlPtr = over_extreme.getControlPtr()\n",
    "c_perc = over_extreme.getCPerc()\n",
    "method, extrType, thr_rel, controlPtr, c_perc"
   ]
  },
  {
   "cell_type": "code",
   "execution_count": 8,
   "metadata": {},
   "outputs": [
    {
     "data": {
      "text/plain": [
       "(4128,\n",
       "            X1         X2        Tgt\n",
       " 0    8.598811   9.646846  10.147398\n",
       " 1    9.424556   7.486556  12.117065\n",
       " 1    9.424556   7.486556  12.117065\n",
       " 1    9.424556   7.486556  12.117065\n",
       " 1    9.424556   7.486556  12.117065\n",
       " ..        ...        ...        ...\n",
       " 999  1.332171  15.335230  20.048330\n",
       " 999  1.332171  15.335230  20.048330\n",
       " 999  1.332171  15.335230  20.048330\n",
       " 999  1.332171  15.335230  20.048330\n",
       " 999  1.332171  15.335230  20.048330\n",
       " \n",
       " [4128 rows x 3 columns])"
      ]
     },
     "execution_count": 8,
     "metadata": {},
     "output_type": "execute_result"
    }
   ],
   "source": [
    "resampled = over_extreme.resample()\n",
    "len(resampled), resampled"
   ]
  },
  {
   "cell_type": "code",
   "execution_count": null,
   "metadata": {},
   "outputs": [],
   "source": []
  }
 ],
 "metadata": {
  "kernelspec": {
   "display_name": "Python 3",
   "language": "python",
   "name": "python3"
  },
  "language_info": {
   "codemirror_mode": {
    "name": "ipython",
    "version": 3
   },
   "file_extension": ".py",
   "mimetype": "text/x-python",
   "name": "python",
   "nbconvert_exporter": "python",
   "pygments_lexer": "ipython3",
   "version": "3.8.5"
  }
 },
 "nbformat": 4,
 "nbformat_minor": 4
}
