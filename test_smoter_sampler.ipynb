{
 "cells": [
  {
   "cell_type": "code",
   "execution_count": 1,
   "metadata": {},
   "outputs": [],
   "source": [
    "from utility_based_smoter_sampler import UtilityBasedSmoteRSampler\n",
    "import pandas as pd\n",
    "import numpy as np\n",
    "import matplotlib.pyplot as plt"
   ]
  },
  {
   "cell_type": "code",
   "execution_count": 2,
   "metadata": {},
   "outputs": [
    {
     "data": {
      "text/html": [
       "<div>\n",
       "<style scoped>\n",
       "    .dataframe tbody tr th:only-of-type {\n",
       "        vertical-align: middle;\n",
       "    }\n",
       "\n",
       "    .dataframe tbody tr th {\n",
       "        vertical-align: top;\n",
       "    }\n",
       "\n",
       "    .dataframe thead th {\n",
       "        text-align: right;\n",
       "    }\n",
       "</style>\n",
       "<table border=\"1\" class=\"dataframe\">\n",
       "  <thead>\n",
       "    <tr style=\"text-align: right;\">\n",
       "      <th></th>\n",
       "      <th>X1</th>\n",
       "      <th>X2</th>\n",
       "      <th>Tgt</th>\n",
       "    </tr>\n",
       "  </thead>\n",
       "  <tbody>\n",
       "    <tr>\n",
       "      <th>0</th>\n",
       "      <td>8.598811</td>\n",
       "      <td>9.646846</td>\n",
       "      <td>10.147398</td>\n",
       "    </tr>\n",
       "    <tr>\n",
       "      <th>1</th>\n",
       "      <td>9.424556</td>\n",
       "      <td>7.486556</td>\n",
       "      <td>12.117065</td>\n",
       "    </tr>\n",
       "    <tr>\n",
       "      <th>2</th>\n",
       "      <td>13.896771</td>\n",
       "      <td>10.390389</td>\n",
       "      <td>10.000030</td>\n",
       "    </tr>\n",
       "    <tr>\n",
       "      <th>3</th>\n",
       "      <td>10.176271</td>\n",
       "      <td>10.584084</td>\n",
       "      <td>10.679731</td>\n",
       "    </tr>\n",
       "    <tr>\n",
       "      <th>4</th>\n",
       "      <td>10.323219</td>\n",
       "      <td>10.888969</td>\n",
       "      <td>10.035441</td>\n",
       "    </tr>\n",
       "    <tr>\n",
       "      <th>...</th>\n",
       "      <td>...</td>\n",
       "      <td>...</td>\n",
       "      <td>...</td>\n",
       "    </tr>\n",
       "    <tr>\n",
       "      <th>995</th>\n",
       "      <td>1.099347</td>\n",
       "      <td>7.417908</td>\n",
       "      <td>20.084010</td>\n",
       "    </tr>\n",
       "    <tr>\n",
       "      <th>996</th>\n",
       "      <td>1.700612</td>\n",
       "      <td>13.693203</td>\n",
       "      <td>20.477744</td>\n",
       "    </tr>\n",
       "    <tr>\n",
       "      <th>997</th>\n",
       "      <td>2.528996</td>\n",
       "      <td>14.303922</td>\n",
       "      <td>20.144063</td>\n",
       "    </tr>\n",
       "    <tr>\n",
       "      <th>998</th>\n",
       "      <td>2.616128</td>\n",
       "      <td>5.795239</td>\n",
       "      <td>20.049739</td>\n",
       "    </tr>\n",
       "    <tr>\n",
       "      <th>999</th>\n",
       "      <td>1.332171</td>\n",
       "      <td>15.335230</td>\n",
       "      <td>20.048330</td>\n",
       "    </tr>\n",
       "  </tbody>\n",
       "</table>\n",
       "<p>1000 rows × 3 columns</p>\n",
       "</div>"
      ],
      "text/plain": [
       "            X1         X2        Tgt\n",
       "0     8.598811   9.646846  10.147398\n",
       "1     9.424556   7.486556  12.117065\n",
       "2    13.896771  10.390389  10.000030\n",
       "3    10.176271  10.584084  10.679731\n",
       "4    10.323219  10.888969  10.035441\n",
       "..         ...        ...        ...\n",
       "995   1.099347   7.417908  20.084010\n",
       "996   1.700612  13.693203  20.477744\n",
       "997   2.528996  14.303922  20.144063\n",
       "998   2.616128   5.795239  20.049739\n",
       "999   1.332171  15.335230  20.048330\n",
       "\n",
       "[1000 rows x 3 columns]"
      ]
     },
     "execution_count": 2,
     "metadata": {},
     "output_type": "execute_result"
    }
   ],
   "source": [
    "pd.set_option('display.max_rows',100)\n",
    "data = pd.read_csv('test/ImbR.csv', index_col=0)\n",
    "data"
   ]
  },
  {
   "cell_type": "markdown",
   "metadata": {},
   "source": [
    "# Test c_perc = list of percentages"
   ]
  },
  {
   "cell_type": "code",
   "execution_count": 3,
   "metadata": {},
   "outputs": [
    {
     "data": {
      "text/plain": [
       "('extremes', 'both', 0.8, [], [0.1], [8.0], 5)"
      ]
     },
     "execution_count": 3,
     "metadata": {},
     "output_type": "execute_result"
    }
   ],
   "source": [
    "smoter_list = UtilityBasedSmoteRSampler(data, thr_rel=0.8, c_perc=[0.1, 8])\n",
    "method = smoter_list.getMethod()\n",
    "extrType = smoter_list.getExtrType()\n",
    "thr_rel = smoter_list.getThrRel()\n",
    "controlPtr = smoter_list.getControlPtr()\n",
    "c_perc_undersampling, c_perc_oversampling = smoter_list.getCPerc()\n",
    "k = smoter_list.getK()\n",
    "method, extrType, thr_rel, controlPtr, c_perc_undersampling, c_perc_oversampling, k"
   ]
  },
  {
   "cell_type": "code",
   "execution_count": 4,
   "metadata": {},
   "outputs": [
    {
     "data": {
      "text/plain": [
       "(1293,\n",
       "              X1         X2        Tgt\n",
       " 202    9.337137  11.477655  10.245493\n",
       " 655    7.929564   9.476379  10.619234\n",
       " 106    8.037739   7.983868  10.022249\n",
       " 729   12.465915  13.444190  10.028473\n",
       " 38     9.235093   7.353524  10.105908\n",
       " ...         ...        ...        ...\n",
       " 1052  19.240760  13.160725  21.753443\n",
       " 1053  19.544321  13.891493  21.437320\n",
       " 1054  19.868661  14.228351  21.356900\n",
       " 1055  19.406219  13.075190  21.648171\n",
       " 1056  20.005454  13.104367  21.489121\n",
       " \n",
       " [1293 rows x 3 columns])"
      ]
     },
     "execution_count": 4,
     "metadata": {},
     "output_type": "execute_result"
    }
   ],
   "source": [
    "resampled = smoter_list.resample()\n",
    "len(resampled),resampled"
   ]
  },
  {
   "cell_type": "markdown",
   "metadata": {},
   "source": [
    "# Test c_perc = 'balance'"
   ]
  },
  {
   "cell_type": "code",
   "execution_count": 5,
   "metadata": {},
   "outputs": [
    {
     "data": {
      "text/plain": [
       "('extremes', 'both', 0.8, [], 'balance', 5)"
      ]
     },
     "execution_count": 5,
     "metadata": {},
     "output_type": "execute_result"
    }
   ],
   "source": [
    "data = pd.read_csv('test/ImbR.csv', index_col=0)\n",
    "smote_balance = UtilityBasedSmoteRSampler(data, thr_rel=0.8, c_perc='balance')\n",
    "method = smote_balance.getMethod()\n",
    "extrType = smote_balance.getExtrType()\n",
    "thr_rel = smote_balance.getThrRel()\n",
    "controlPtr = smote_balance.getControlPtr()\n",
    "c_perc = smote_balance.getCPerc()\n",
    "k = smote_balance.getK()\n",
    "method, extrType, thr_rel, controlPtr, c_perc, k"
   ]
  },
  {
   "cell_type": "code",
   "execution_count": 6,
   "metadata": {},
   "outputs": [
    {
     "data": {
      "text/plain": [
       "(1698,\n",
       "             X1         X2        Tgt\n",
       " 0     8.598811   9.646846  10.147398\n",
       " 1     9.424556   7.486556  12.117065\n",
       " 2    13.896771  10.390389  10.000030\n",
       " 3    10.176271  10.584084  10.679731\n",
       " 4    10.323219  10.888969  10.035441\n",
       " ..         ...        ...        ...\n",
       " 693  20.264781   8.870622  19.369074\n",
       " 694  19.134939  13.203536  21.748443\n",
       " 695  19.968143  13.034628  21.497727\n",
       " 696  19.962761  13.604902  21.497044\n",
       " 697  19.064030  16.444599  21.709199\n",
       " \n",
       " [1698 rows x 3 columns])"
      ]
     },
     "execution_count": 6,
     "metadata": {},
     "output_type": "execute_result"
    }
   ],
   "source": [
    "resampled = smote_balance.resample()\n",
    "len(resampled),resampled"
   ]
  },
  {
   "cell_type": "markdown",
   "metadata": {},
   "source": [
    "# Test c_perc = 'extreme'"
   ]
  },
  {
   "cell_type": "code",
   "execution_count": 7,
   "metadata": {},
   "outputs": [
    {
     "data": {
      "text/plain": [
       "('extremes', 'both', 0.8, [], 'extreme', 5)"
      ]
     },
     "execution_count": 7,
     "metadata": {},
     "output_type": "execute_result"
    }
   ],
   "source": [
    "data = pd.read_csv('test/ImbR.csv', index_col=0)\n",
    "smote_extreme = UtilityBasedSmoteRSampler(data, thr_rel=0.8, c_perc='extreme')\n",
    "method = smote_extreme.getMethod()\n",
    "extrType = smote_extreme.getExtrType()\n",
    "thr_rel = smote_extreme.getThrRel()\n",
    "controlPtr = smote_extreme.getControlPtr()\n",
    "c_perc = smote_extreme.getCPerc()\n",
    "k = smote_extreme.getK()\n",
    "method, extrType, thr_rel, controlPtr, c_perc, k"
   ]
  },
  {
   "cell_type": "code",
   "execution_count": 8,
   "metadata": {},
   "outputs": [
    {
     "data": {
      "text/plain": [
       "(5623,\n",
       "              X1         X2        Tgt\n",
       " 0      8.598811   9.646846  10.147398\n",
       " 1      9.424556   7.486556  12.117065\n",
       " 2     13.896771  10.390389  10.000030\n",
       " 3     10.176271  10.584084  10.679731\n",
       " 4     10.323219  10.888969  10.035441\n",
       " ...         ...        ...        ...\n",
       " 4618  19.676549  13.401156  21.586441\n",
       " 4619  19.446511  13.008890  21.645514\n",
       " 4620  19.067882  15.688357  21.733681\n",
       " 4621  20.418292  13.015223  19.314154\n",
       " 4622  19.215944  13.093259  21.712437\n",
       " \n",
       " [5623 rows x 3 columns])"
      ]
     },
     "execution_count": 8,
     "metadata": {},
     "output_type": "execute_result"
    }
   ],
   "source": [
    "resampled = smote_extreme.resample()\n",
    "len(resampled),resampled"
   ]
  },
  {
   "cell_type": "code",
   "execution_count": null,
   "metadata": {},
   "outputs": [],
   "source": []
  }
 ],
 "metadata": {
  "kernelspec": {
   "display_name": "Python 3",
   "language": "python",
   "name": "python3"
  },
  "language_info": {
   "codemirror_mode": {
    "name": "ipython",
    "version": 3
   },
   "file_extension": ".py",
   "mimetype": "text/x-python",
   "name": "python",
   "nbconvert_exporter": "python",
   "pygments_lexer": "ipython3",
   "version": "3.8.5"
  }
 },
 "nbformat": 4,
 "nbformat_minor": 4
}
